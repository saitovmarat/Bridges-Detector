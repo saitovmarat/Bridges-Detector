{
 "cells": [
  {
   "cell_type": "markdown",
   "id": "17da8aab",
   "metadata": {},
   "source": [
    "## Подключаем библиотеки"
   ]
  },
  {
   "cell_type": "code",
   "execution_count": null,
   "id": "d29835ac",
   "metadata": {},
   "outputs": [],
   "source": [
    "import os\n",
    "import shutil\n",
    "import glob"
   ]
  },
  {
   "cell_type": "markdown",
   "id": "9b8755ef",
   "metadata": {},
   "source": [
    "## 1. Данные"
   ]
  },
  {
   "cell_type": "markdown",
   "id": "9cb5958b",
   "metadata": {},
   "source": [
    "### Переносим все папки с изображениями по указанному пути для удобства "
   ]
  },
  {
   "cell_type": "code",
   "execution_count": null,
   "id": "c845bb75",
   "metadata": {},
   "outputs": [
    {
     "name": "stdout",
     "output_type": "stream",
     "text": [
      "Все файлы успешно перенесены, и исходные папки удалены.\n"
     ]
    }
   ],
   "source": [
    "pattern = \"dataset/images.cv*\" \n",
    "\n",
    "destination_folder = \"dataset\" \n",
    "\n",
    "matching_folders = glob.glob(pattern)\n",
    "\n",
    "for folder in matching_folders:\n",
    "    if os.path.isdir(folder):  \n",
    "        print(f\"Обнаружена папка: {folder}\")\n",
    "        \n",
    "        for root, dirs, files in os.walk(folder):\n",
    "            for file in files:\n",
    "                source_file = os.path.join(root, file)\n",
    "                relative_path = os.path.relpath(source_file, folder) \n",
    "                destination_file = os.path.join(destination_folder, relative_path) \n",
    "                os.makedirs(os.path.dirname(destination_file), exist_ok=True)\n",
    "                shutil.copy2(source_file, destination_file)  \n",
    "\n",
    "        shutil.rmtree(folder)\n",
    "        print(f\"Удалена исходная папка: {folder}\")\n",
    "\n",
    "print(\"Все файлы успешно перенесены, и исходные папки удалены.\")"
   ]
  },
  {
   "cell_type": "markdown",
   "id": "73258f35",
   "metadata": {},
   "source": [
    "### Переименовываем папки с изображениями"
   ]
  },
  {
   "cell_type": "code",
   "execution_count": 15,
   "id": "08af259a",
   "metadata": {},
   "outputs": [
    {
     "name": "stdout",
     "output_type": "stream",
     "text": [
      "Папка 'dataset/data\\test\\bridge' переименована в 'dataset/data\\test\\images'.\n",
      "Папка 'dataset/data\\val\\bridge' переименована в 'dataset/data\\val\\images'.\n",
      "Папка 'dataset/data\\train\\bridge' переименована в 'dataset/data\\train\\images'.\n",
      "Все операции завершены.\n"
     ]
    }
   ],
   "source": [
    "base_dir = \"dataset/data\"\n",
    "subdirs = [\"test\", \"val\", \"train\"]\n",
    "\n",
    "for subdir in subdirs:\n",
    "    old_folder = os.path.join(base_dir, subdir, \"bridge\")\n",
    "    new_folder = os.path.join(base_dir, subdir, \"images\")\n",
    "    if os.path.exists(old_folder):\n",
    "        os.rename(old_folder, new_folder)\n",
    "        print(f\"Папка '{old_folder}' переименована в '{new_folder}'.\")\n",
    "    else:\n",
    "        print(f\"Папка '{old_folder}' не существует.\")\n",
    "\n",
    "print(\"Все операции завершены.\")"
   ]
  }
 ],
 "metadata": {
  "kernelspec": {
   "display_name": ".venv",
   "language": "python",
   "name": "python3"
  },
  "language_info": {
   "codemirror_mode": {
    "name": "ipython",
    "version": 3
   },
   "file_extension": ".py",
   "mimetype": "text/x-python",
   "name": "python",
   "nbconvert_exporter": "python",
   "pygments_lexer": "ipython3",
   "version": "3.11.0"
  }
 },
 "nbformat": 4,
 "nbformat_minor": 5
}
